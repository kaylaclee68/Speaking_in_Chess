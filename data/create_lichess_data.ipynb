{
 "cells": [
  {
   "cell_type": "code",
   "execution_count": 1,
   "metadata": {},
   "outputs": [
    {
     "name": "stderr",
     "output_type": "stream",
     "text": [
      "/data/evan/miniconda3/envs/chess/lib/python3.11/site-packages/tqdm/auto.py:21: TqdmWarning: IProgress not found. Please update jupyter and ipywidgets. See https://ipywidgets.readthedocs.io/en/stable/user_install.html\n",
      "  from .autonotebook import tqdm as notebook_tqdm\n"
     ]
    }
   ],
   "source": [
    "from datasets import load_dataset\n",
    "import pandas as pd\n",
    "import numpy as np\n",
    "import chess.pgn\n",
    "import chess.engine\n",
    "import chess\n",
    "import re\n",
    "from hashlib import sha1"
   ]
  },
  {
   "cell_type": "code",
   "execution_count": 2,
   "metadata": {},
   "outputs": [],
   "source": [
    "pgn = open(\"/data/evan/lichess/lichess_elite_2023-09.pgn\", encoding=\"utf-8\")\n",
    "\n",
    "game = chess.pgn.read_game(pgn)"
   ]
  },
  {
   "cell_type": "code",
   "execution_count": 15,
   "metadata": {},
   "outputs": [
    {
     "data": {
      "text/plain": [
       "'1/2-1/2'"
      ]
     },
     "execution_count": 15,
     "metadata": {},
     "output_type": "execute_result"
    }
   ],
   "source": [
    "str(game.headers)\n",
    "game.headers.get(\"Result\")"
   ]
  },
  {
   "cell_type": "code",
   "execution_count": 7,
   "metadata": {},
   "outputs": [],
   "source": [
    "board = game.board()\n",
    "seq = \"\"\n",
    "turns = ['<b>', '<w>']\n",
    "\n",
    "for move in game.mainline_moves():\n",
    "    bool_turn = board.turn\n",
    "    turn = turns[int(bool_turn)]\n",
    "    lan = board.lan(move)\n",
    "    seq += turn + lan\n",
    "    board.push(move)"
   ]
  },
  {
   "cell_type": "code",
   "execution_count": 8,
   "metadata": {},
   "outputs": [
    {
     "data": {
      "text/plain": [
       "'<w>d2-d4<b>Ng8-f6<w>c2-c4<b>e7-e6<w>Ng1-f3<b>b7-b6<w>a2-a3<b>Bc8-b7<w>Nb1-c3<b>Nf6-e4<w>Nc3xe4<b>Bb7xe4<w>Bc1-f4<b>d7-d6<w>e2-e3<b>Nb8-d7<w>Bf1-d3<b>Be4xd3<w>Qd1xd3<b>g7-g6<w>O-O<b>Bf8-g7<w>Ra1-d1<b>O-O<w>Rf1-e1<b>Qd8-e7<w>Qd3-c2<b>e6-e5<w>Bf4-g5<b>Bg7-f6<w>Bg5-h6<b>Bf6-g7<w>Bh6xg7<b>Kg8xg7<w>Qc2-c3<b>Rf8-e8<w>b2-b4<b>a7-a5<w>b4-b5<b>e5xd4<w>e3xd4<b>Qe7-f6<w>Qc3-d2<b>h7-h6<w>h2-h3<b>Nd7-f8<w>Re1xe8<b>Ra8xe8<w>Rd1-e1<b>Re8xe1+<w>Qd2xe1<b>Nf8-e6<w>Qe1-e3<b>Qf6-f5<w>Kg1-h2<b>Qf5-c2<w>d4-d5<b>Ne6-c5<w>Qe3-d4+<b>Kg7-g8<w>Qd4-f6<b>Qc2xc4<w>Qf6-d8+<b>Kg8-g7<w>Qd8xc7<b>Qc4-f4+<w>Kh2-g1<b>Qf4-c1+<w>Kg1-h2<b>Qc1-f4+<w>Kh2-g1<b>Qf4-c1+<w>Kg1-h2<b>Qc1-f4+'"
      ]
     },
     "execution_count": 8,
     "metadata": {},
     "output_type": "execute_result"
    }
   ],
   "source": [
    "seq"
   ]
  },
  {
   "cell_type": "code",
   "execution_count": 32,
   "metadata": {},
   "outputs": [],
   "source": [
    "from pyarrow import json\n",
    "from pyarrow import parquet\n",
    "import os"
   ]
  },
  {
   "cell_type": "code",
   "execution_count": 33,
   "metadata": {},
   "outputs": [],
   "source": [
    "for fname in os.listdir(\"../output\"):\n",
    "    game_data = json.read_json(f\"../output/{fname}\")\n",
    "    parquet.write_table(game_data, f\"../output_par/{os.path.splitext(fname)[0]}.parquet\")"
   ]
  },
  {
   "cell_type": "code",
   "execution_count": null,
   "metadata": {},
   "outputs": [],
   "source": []
  }
 ],
 "metadata": {
  "kernelspec": {
   "display_name": "chess",
   "language": "python",
   "name": "python3"
  },
  "language_info": {
   "codemirror_mode": {
    "name": "ipython",
    "version": 3
   },
   "file_extension": ".py",
   "mimetype": "text/x-python",
   "name": "python",
   "nbconvert_exporter": "python",
   "pygments_lexer": "ipython3",
   "version": "3.11.5"
  }
 },
 "nbformat": 4,
 "nbformat_minor": 2
}
